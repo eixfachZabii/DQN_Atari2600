{
 "cells": [
  {
   "cell_type": "code",
   "metadata": {
    "ExecuteTime": {
     "end_time": "2025-07-03T17:38:35.804916Z",
     "start_time": "2025-07-03T17:38:35.801915Z"
    }
   },
   "source": [
    "import numpy as np\n",
    "import torch\n",
    "import torch.nn as nn\n",
    "import torch.optim as optim\n",
    "import gymnasium as gym\n",
    "import os\n",
    "import matplotlib.pyplot as plt\n",
    "from IPython.display import display, clear_output\n",
    "\n",
    "from model import DQN\n",
    "from replay_memory import ReplayBuffer\n",
    "from wrappers import make_atari_env\n",
    "from utils import train, test, plot_stats\n",
    "from Param import *"
   ],
   "outputs": [],
   "execution_count": 3
  },
  {
   "cell_type": "code",
   "metadata": {
    "ExecuteTime": {
     "end_time": "2025-07-03T17:38:38.030601Z",
     "start_time": "2025-07-03T17:38:38.020046Z"
    }
   },
   "source": [
    "from IPython.display import clear_output\n",
    "import matplotlib.pyplot as plt\n",
    "import numpy as np\n",
    "import time\n",
    "%matplotlib inline"
   ],
   "outputs": [],
   "execution_count": 4
  },
  {
   "cell_type": "code",
   "metadata": {
    "ExecuteTime": {
     "end_time": "2025-07-03T17:38:39.015961Z",
     "start_time": "2025-07-03T17:38:39.012954Z"
    }
   },
   "source": [
    "device = torch.device(\"cuda\" if torch.cuda.is_available() else \"cpu\")\n",
    "print(f\"Using device: {device}\")"
   ],
   "outputs": [
    {
     "name": "stdout",
     "output_type": "stream",
     "text": [
      "Using device: cuda\n"
     ]
    }
   ],
   "execution_count": 5
  },
  {
   "cell_type": "code",
   "metadata": {
    "ExecuteTime": {
     "end_time": "2025-07-03T17:38:55.019946Z",
     "start_time": "2025-07-03T17:38:54.963976Z"
    }
   },
   "source": [
    "env_id = \"ALE/Pong-v5\"\n",
    "env = make_atari_env(env_id)"
   ],
   "outputs": [],
   "execution_count": 6
  },
  {
   "cell_type": "code",
   "metadata": {
    "ExecuteTime": {
     "end_time": "2025-07-03T17:38:58.086961Z",
     "start_time": "2025-07-03T17:38:56.592203Z"
    }
   },
   "source": [
    "model = DQN(env.observation_space.shape, env.action_space.n).to(device)\n",
    "optimizer = optim.Adam(model.parameters(), lr=0.00001)\n",
    "replay_buffer = ReplayBuffer(MEMORY_SIZE)"
   ],
   "outputs": [],
   "execution_count": 7
  },
  {
   "cell_type": "code",
   "metadata": {
    "scrolled": false
   },
   "source": [
    "train(env, model, optimizer, replay_buffer, device)"
   ],
   "execution_count": 8,
   "outputs": [
    {
     "ename": "KeyboardInterrupt",
     "evalue": "",
     "output_type": "error",
     "traceback": [
      "\u001B[31m---------------------------------------------------------------------------\u001B[39m",
      "\u001B[31mKeyboardInterrupt\u001B[39m                         Traceback (most recent call last)",
      "\u001B[36mCell\u001B[39m\u001B[36m \u001B[39m\u001B[32mIn[8]\u001B[39m\u001B[32m, line 1\u001B[39m\n\u001B[32m----> \u001B[39m\u001B[32m1\u001B[39m \u001B[43mtrain\u001B[49m\u001B[43m(\u001B[49m\u001B[43menv\u001B[49m\u001B[43m,\u001B[49m\u001B[43m \u001B[49m\u001B[43mmodel\u001B[49m\u001B[43m,\u001B[49m\u001B[43m \u001B[49m\u001B[43moptimizer\u001B[49m\u001B[43m,\u001B[49m\u001B[43m \u001B[49m\u001B[43mreplay_buffer\u001B[49m\u001B[43m,\u001B[49m\u001B[43m \u001B[49m\u001B[43mdevice\u001B[49m\u001B[43m)\u001B[49m\n",
      "\u001B[36mFile \u001B[39m\u001B[32m~\\PycharmProjects\\playing-atari-with-deep-RL\\DQN\\utils.py:67\u001B[39m, in \u001B[36mtrain\u001B[39m\u001B[34m(env, model, optimizer, replay_buffer, device)\u001B[39m\n\u001B[32m     64\u001B[39m state = next_state\n\u001B[32m     65\u001B[39m episode_reward += reward\n\u001B[32m---> \u001B[39m\u001B[32m67\u001B[39m \u001B[38;5;28;01mif\u001B[39;00m \u001B[38;5;28mlen\u001B[39m(replay_buffer) > INITIAL_MEMORY:\n\u001B[32m     68\u001B[39m     loss = compute_loss(model, replay_buffer, BATCH_SIZE, GAMMA, device)\n\u001B[32m     70\u001B[39m     \u001B[38;5;66;03m# Optimization step\u001B[39;00m\n",
      "\u001B[36mFile \u001B[39m\u001B[32m~\\PycharmProjects\\playing-atari-with-deep-RL\\DQN\\utils.py:28\u001B[39m, in \u001B[36mcompute_loss\u001B[39m\u001B[34m(model, replay_buffer, batch_size, gamma, device)\u001B[39m\n\u001B[32m     25\u001B[39m \u001B[38;5;28;01mdef\u001B[39;00m\u001B[38;5;250m \u001B[39m\u001B[34mcompute_loss\u001B[39m(model, replay_buffer, batch_size, gamma, device=device):\n\u001B[32m     26\u001B[39m     state, action, reward, next_state, done = replay_buffer.sample(batch_size)\n\u001B[32m---> \u001B[39m\u001B[32m28\u001B[39m     state = \u001B[43mtorch\u001B[49m\u001B[43m.\u001B[49m\u001B[43mFloatTensor\u001B[49m\u001B[43m(\u001B[49m\u001B[43mnp\u001B[49m\u001B[43m.\u001B[49m\u001B[43mfloat32\u001B[49m\u001B[43m(\u001B[49m\u001B[43mstate\u001B[49m\u001B[43m)\u001B[49m\u001B[43m)\u001B[49m\u001B[43m.\u001B[49m\u001B[43mto\u001B[49m\u001B[43m(\u001B[49m\u001B[43mdevice\u001B[49m\u001B[43m)\u001B[49m\n\u001B[32m     29\u001B[39m     next_state = torch.FloatTensor(np.float32(next_state)).to(device)\n\u001B[32m     30\u001B[39m     action = torch.LongTensor(action).to(device)\n",
      "\u001B[31mKeyboardInterrupt\u001B[39m: "
     ]
    }
   ]
  }
 ],
 "metadata": {
  "kernelspec": {
   "display_name": "Python 3",
   "language": "python",
   "name": "python3"
  },
  "language_info": {
   "codemirror_mode": {
    "name": "ipython",
    "version": 3
   },
   "file_extension": ".py",
   "mimetype": "text/x-python",
   "name": "python",
   "nbconvert_exporter": "python",
   "pygments_lexer": "ipython3",
   "version": "3.8.5"
  }
 },
 "nbformat": 4,
 "nbformat_minor": 4
}
